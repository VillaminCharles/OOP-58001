{
  "nbformat": 4,
  "nbformat_minor": 0,
  "metadata": {
    "colab": {
      "name": "PrelimExam_Problem 2.ipynb",
      "provenance": [],
      "authorship_tag": "ABX9TyMWjq9h6RNs4q2oDS7Ogyym",
      "include_colab_link": true
    },
    "kernelspec": {
      "name": "python3",
      "display_name": "Python 3"
    },
    "language_info": {
      "name": "python"
    }
  },
  "cells": [
    {
      "cell_type": "markdown",
      "metadata": {
        "id": "view-in-github",
        "colab_type": "text"
      },
      "source": [
        "<a href=\"https://colab.research.google.com/github/tsarlz/OOP-58001/blob/main/Villamin_PrelimExam_Problem_2.ipynb\" target=\"_parent\"><img src=\"https://colab.research.google.com/assets/colab-badge.svg\" alt=\"Open In Colab\"/></a>"
      ]
    },
    {
      "cell_type": "markdown",
      "source": [
        "1. Write a Python to display your full name, student number, age, and course\n",
        "2. Create a class named Student with attributes: Name, Student_No, Age, School, and Course\n",
        "3. Create an object name Myself and assign an instance for each attribute.\n",
        "4. Create a method Self () using an instantiation of a class."
      ],
      "metadata": {
        "id": "PfqMB6lrItM7"
      }
    },
    {
      "cell_type": "code",
      "source": [
        "class Student:\n",
        "\n",
        "    def __init__(self, name, studentnumber, age, school, course):\n",
        "        self.name = name\n",
        "        self.studentnumber = studentnumber\n",
        "        self.age = age\n",
        "        self.school = school\n",
        "        self.course = course\n",
        "\n",
        "    def self(self):\n",
        "      print(self.name)\n",
        "      print(self.studentnumber)\n",
        "      print(self.age)\n",
        "      print(self.school)\n",
        "      print(self.course)\n",
        "                 \n",
        "mySelf = Student(\n",
        "    \"I am Charles Ian Villamin\",\n",
        "    \"My student number is 202114696\",\n",
        "    \"I am 18 years old\",\n",
        "    \"I study at Adamson University\",\n",
        "    \"My course is BS in Computer Engineering\"\n",
        ")\n",
        "mySelf.self()\n"
      ],
      "metadata": {
        "colab": {
          "base_uri": "https://localhost:8080/"
        },
        "id": "FyLuc4yJIxkx",
        "outputId": "b5a11cbc-cfe3-4a68-b87d-638b92722833"
      },
      "execution_count": 34,
      "outputs": [
        {
          "output_type": "stream",
          "name": "stdout",
          "text": [
            "I am Charles Ian Villamin\n",
            "My student number is 202114696\n",
            "I am 18 years old\n",
            "I study at Adamson University\n",
            "My course is BS in Computer Engineering\n"
          ]
        }
      ]
    },
    {
      "cell_type": "markdown",
      "source": [
        ""
      ],
      "metadata": {
        "id": "qUGpZHMiMeZE"
      }
    }
  ]
}