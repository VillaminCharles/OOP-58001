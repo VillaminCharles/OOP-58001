{
  "nbformat": 4,
  "nbformat_minor": 0,
  "metadata": {
    "colab": {
      "name": "Long Quiz1.ipynb",
      "provenance": [],
      "authorship_tag": "ABX9TyMNr0jR+dNRLnjFWt5pI2z/",
      "include_colab_link": true
    },
    "kernelspec": {
      "name": "python3",
      "display_name": "Python 3"
    },
    "language_info": {
      "name": "python"
    }
  },
  "cells": [
    {
      "cell_type": "markdown",
      "metadata": {
        "id": "view-in-github",
        "colab_type": "text"
      },
      "source": [
        "<a href=\"https://colab.research.google.com/github/tsarlz/OOP-58001/blob/main/Long_Quiz1.ipynb\" target=\"_parent\"><img src=\"https://colab.research.google.com/assets/colab-badge.svg\" alt=\"Open In Colab\"/></a>"
      ]
    },
    {
      "cell_type": "markdown",
      "source": [
        "# Villamin - Long Quiz 1\n",
        "\n",
        "1. Refer to the laboratory activity format in Week 1 folder.\n",
        "2. Write a Python program that asks the user to enter the radius of a circle and solve its area and perimeter.\n",
        "3. Create a class name Circle allowing you to build a circle with radius and pi attributes.\n",
        "4.  Create a method Display() the perimeter and area using an instantiation of a class.\n",
        "5. Create a Perimeter() method to calculate the perimeter of the circle and an Area() method to calculate the area of ​​the circle."
      ],
      "metadata": {
        "id": "xDVafwTylzIF"
      }
    },
    {
      "cell_type": "code",
      "source": [
        "class Circle():\n",
        "  def __init__ (self, radius):\n",
        "    self.radius = int (radius)\n",
        "\n",
        "  def Perimeter (self):\n",
        "    return 2 * pi * self.radius\n",
        "  \n",
        "  def Area (self):\n",
        "    return pi * (self.radius ** 2)\n",
        "\n",
        "  def display (self):\n",
        "    print (\"The perimeter of the circle is\", self.Perimeter())\n",
        "    print (\"The area of the circle is\", self.Area())\n",
        "\n",
        "pi = 3.14\n",
        "basketball = Circle (input())\n",
        "basketball.display()"
      ],
      "metadata": {
        "colab": {
          "base_uri": "https://localhost:8080/"
        },
        "id": "cYbI2UQLfbid",
        "outputId": "25c853b9-c62b-4a18-cd9e-4046a72d15fa"
      },
      "execution_count": 25,
      "outputs": [
        {
          "output_type": "stream",
          "name": "stdout",
          "text": [
            "3\n",
            "The perimeter of the circle is 18.84\n",
            "The area of the circle is 28.26\n"
          ]
        }
      ]
    }
  ]
}