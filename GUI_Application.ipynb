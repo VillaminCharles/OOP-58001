{
  "nbformat": 4,
  "nbformat_minor": 0,
  "metadata": {
    "colab": {
      "name": "GUI Application.ipynb",
      "provenance": [],
      "authorship_tag": "ABX9TyPyUpbbRkjpS1oeZ5B7RkUe",
      "include_colab_link": true
    },
    "kernelspec": {
      "name": "python3",
      "display_name": "Python 3"
    },
    "language_info": {
      "name": "python"
    }
  },
  "cells": [
    {
      "cell_type": "markdown",
      "metadata": {
        "id": "view-in-github",
        "colab_type": "text"
      },
      "source": [
        "<a href=\"https://colab.research.google.com/github/tsarlz/OOP-58001/blob/main/GUI_Application.ipynb\" target=\"_parent\"><img src=\"https://colab.research.google.com/assets/colab-badge.svg\" alt=\"Open In Colab\"/></a>"
      ]
    },
    {
      "cell_type": "markdown",
      "source": [
        "Create a Python program that displays the grades of the students in OOP"
      ],
      "metadata": {
        "id": "QOwTqEi0jNEz"
      }
    },
    {
      "cell_type": "code",
      "source": [
        "#@title Student's Grade in Object-Oriented Programming\n",
        "\n",
        "Student_Name = \"Enter the student's name\" #@param {type:\"string\"}\n",
        "Prelim = 100 #@param {type: \"number\"}\n",
        "Midterm = 100 #@param {type: \"number\"}\n",
        "Final = 100 #@param {type: \"number\"}\n",
        "Semestral = (Prelim*0.30 + Midterm*0.30 + Final*0.40) \n",
        "\n",
        "print(\"Student_Name: \" + Student_Name)\n",
        "print(\"Semestral grade of the student: \" + str(Semestral))\n"
      ],
      "metadata": {
        "id": "b7pUm17njQi9"
      },
      "execution_count": null,
      "outputs": []
    },
    {
      "cell_type": "code",
      "source": [
        "#@title Gender\n",
        "\n",
        "Gender = \"Male\" #@param [\"Male\",\"Female\"]\n",
        "Birthdate = '2022-03-29' #@param {type: \"date\"}\n",
        "\n",
        "print(\"My birthdate is \" + Birthdate)\n",
        "print(\"My gender is \" + Gender)"
      ],
      "metadata": {
        "id": "1fmemXvfjS1W"
      },
      "execution_count": null,
      "outputs": []
    }
  ]
}